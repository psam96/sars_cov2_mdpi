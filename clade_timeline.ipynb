{
 "cells": [
  {
   "cell_type": "code",
   "execution_count": 1,
   "id": "1c570213",
   "metadata": {},
   "outputs": [
    {
     "data": {
      "text/html": [
       "\n",
       "<div id=\"altair-viz-3b22748c6aeb4aa488b3deaf1d3b20eb\"></div>\n",
       "<script type=\"text/javascript\">\n",
       "  (function(spec, embedOpt){\n",
       "    let outputDiv = document.currentScript.previousElementSibling;\n",
       "    if (outputDiv.id !== \"altair-viz-3b22748c6aeb4aa488b3deaf1d3b20eb\") {\n",
       "      outputDiv = document.getElementById(\"altair-viz-3b22748c6aeb4aa488b3deaf1d3b20eb\");\n",
       "    }\n",
       "    const paths = {\n",
       "      \"vega\": \"https://cdn.jsdelivr.net/npm//vega@5?noext\",\n",
       "      \"vega-lib\": \"https://cdn.jsdelivr.net/npm//vega-lib?noext\",\n",
       "      \"vega-lite\": \"https://cdn.jsdelivr.net/npm//vega-lite@4.8.1?noext\",\n",
       "      \"vega-embed\": \"https://cdn.jsdelivr.net/npm//vega-embed@6?noext\",\n",
       "    };\n",
       "\n",
       "    function loadScript(lib) {\n",
       "      return new Promise(function(resolve, reject) {\n",
       "        var s = document.createElement('script');\n",
       "        s.src = paths[lib];\n",
       "        s.async = true;\n",
       "        s.onload = () => resolve(paths[lib]);\n",
       "        s.onerror = () => reject(`Error loading script: ${paths[lib]}`);\n",
       "        document.getElementsByTagName(\"head\")[0].appendChild(s);\n",
       "      });\n",
       "    }\n",
       "\n",
       "    function showError(err) {\n",
       "      outputDiv.innerHTML = `<div class=\"error\" style=\"color:red;\">${err}</div>`;\n",
       "      throw err;\n",
       "    }\n",
       "\n",
       "    function displayChart(vegaEmbed) {\n",
       "      vegaEmbed(outputDiv, spec, embedOpt)\n",
       "        .catch(err => showError(`Javascript Error: ${err.message}<br>This usually means there's a typo in your chart specification. See the javascript console for the full traceback.`));\n",
       "    }\n",
       "\n",
       "    if(typeof define === \"function\" && define.amd) {\n",
       "      requirejs.config({paths});\n",
       "      require([\"vega-embed\"], displayChart, err => showError(`Error loading script: ${err.message}`));\n",
       "    } else if (typeof vegaEmbed === \"function\") {\n",
       "      displayChart(vegaEmbed);\n",
       "    } else {\n",
       "      loadScript(\"vega\")\n",
       "        .then(() => loadScript(\"vega-lite\"))\n",
       "        .then(() => loadScript(\"vega-embed\"))\n",
       "        .catch(showError)\n",
       "        .then(() => displayChart(vegaEmbed));\n",
       "    }\n",
       "  })({\"config\": {\"view\": {\"continuousWidth\": 400, \"continuousHeight\": 300}}, \"data\": {\"name\": \"data-90b8bf9c24251b15bbc6b2510e038fd5\"}, \"mark\": \"bar\", \"encoding\": {\"color\": {\"type\": \"nominal\", \"field\": \"Clades\", \"scale\": {\"scheme\": \"dark2\"}}, \"x\": {\"type\": \"temporal\", \"field\": \"Timeline (from\"}, \"x2\": {\"field\": \"to)\"}, \"y\": {\"type\": \"nominal\", \"field\": \"Clades\"}}, \"$schema\": \"https://vega.github.io/schema/vega-lite/v4.8.1.json\", \"datasets\": {\"data-90b8bf9c24251b15bbc6b2510e038fd5\": [{\"Timeline (from\": \"2020-01-13T00:00:00\", \"to)\": \"2020-01-30T00:00:00\", \"Clades\": \"19A\"}, {\"Timeline (from\": \"2020-07-31T00:00:00\", \"to)\": \"2021-01-01T00:00:00\", \"Clades\": \"20A\"}, {\"Timeline (from\": \"2020-07-30T00:00:00\", \"to)\": \"2021-01-01T00:00:00\", \"Clades\": \"20B\"}, {\"Timeline (from\": \"2021-01-01T00:00:00\", \"to)\": \"2021-06-02T00:00:00\", \"Clades\": \"20I (Alpha V1)\"}, {\"Timeline (from\": \"2021-01-01T00:00:00\", \"to)\": \"2021-07-12T00:00:00\", \"Clades\": \"21A (Delta)\"}, {\"Timeline (from\": \"2021-05-01T00:00:00\", \"to)\": \"2021-05-09T00:00:00\", \"Clades\": \"21B (Kappa)\"}]}}, {\"mode\": \"vega-lite\"});\n",
       "</script>"
      ],
      "text/plain": [
       "alt.Chart(...)"
      ]
     },
     "execution_count": 1,
     "metadata": {},
     "output_type": "execute_result"
    }
   ],
   "source": [
    "import altair as alt\n",
    "import datetime as dt\n",
    "import pandas as pd\n",
    "\n",
    "\n",
    "alt.renderers.enable('default')\n",
    "\n",
    "data = pd.DataFrame()\n",
    "data['Timeline (from'] = [dt.datetime(2020, 1, 13),\n",
    "             dt.datetime(2020, 7, 31),\n",
    "             dt.datetime(2020, 7, 30), \n",
    "             dt.datetime(2021, 1, 1), \n",
    "             dt.datetime(2021, 1, 1), \n",
    "             dt.datetime(2021, 5, 1)]\n",
    "data['to)'] = [dt.datetime(2020, 1, 30),\n",
    "             dt.datetime(2021, 1, 1),\n",
    "             dt.datetime(2021, 1, 1), \n",
    "             dt.datetime(2021, 6, 2), \n",
    "             dt.datetime(2021, 7, 12), \n",
    "             dt.datetime(2021, 5, 9)]\n",
    "data['Clades'] = ['19A','20A','20B','20I (Alpha V1)','21A (Delta)','21B (Kappa)']\n",
    "\n",
    "alt.Chart(data).mark_bar().encode(\n",
    "    x='Timeline (from',\n",
    "    x2='to)',\n",
    "    y='Clades',\n",
    "    color=alt.Color('Clades', scale=alt.Scale(scheme='dark2'))\n",
    ")\n"
   ]
  },
  {
   "cell_type": "code",
   "execution_count": null,
   "id": "37caee89",
   "metadata": {},
   "outputs": [],
   "source": []
  }
 ],
 "metadata": {
  "kernelspec": {
   "display_name": "Python 3",
   "language": "python",
   "name": "python3"
  },
  "language_info": {
   "codemirror_mode": {
    "name": "ipython",
    "version": 3
   },
   "file_extension": ".py",
   "mimetype": "text/x-python",
   "name": "python",
   "nbconvert_exporter": "python",
   "pygments_lexer": "ipython3",
   "version": "3.8.8"
  }
 },
 "nbformat": 4,
 "nbformat_minor": 5
}
